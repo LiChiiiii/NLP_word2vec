{
 "cells": [
  {
   "cell_type": "code",
   "execution_count": 4,
   "id": "8e407f02",
   "metadata": {},
   "outputs": [
    {
     "name": "stdout",
     "output_type": "stream",
     "text": [
      "傅達仁今將執行安樂死，卻突然爆出自己20年前遭緯來體育臺封殺，他不懂自己哪裡得罪到電視臺。\n"
     ]
    }
   ],
   "source": [
    "from opencc import OpenCC\n",
    "\n",
    "cc = OpenCC('s2twp')\n",
    "text = '傅达仁今将执行安乐死，却突然爆出自己20年前遭纬来体育台封杀，他不懂自己哪里得罪到电视台。'\n",
    "\n",
    "print(cc.convert(text))"
   ]
  },
  {
   "cell_type": "code",
   "execution_count": 18,
   "id": "99d7ebd5",
   "metadata": {},
   "outputs": [
    {
     "name": "stdout",
     "output_type": "stream",
     "text": [
      "None\n"
     ]
    }
   ],
   "source": [
    "from os import listdir\n",
    "from os.path import isdir\n",
    "\n",
    "def load_faces(directory):\n",
    "    faces = list()\n",
    "    for filename in listdir(directory):\n",
    "        path = directory + filename\n",
    "    return path\n",
    "\n",
    "def load_dataset(directory):\n",
    "    # enumerate folders, on per class\n",
    "    for subdir in listdir(directory):\n",
    "        path = directory + subdir + '/'\n",
    "        # skip any files that might be in the dir\n",
    "        if not isdir(path):\n",
    "            continue\n",
    "        faces = load_faces(path)\n",
    "        print(faces)\n",
    "        return 1\n",
    "\n",
    "print(load_dataset('wiki_zh/'))"
   ]
  },
  {
   "cell_type": "code",
   "execution_count": null,
   "id": "f0b8c13c",
   "metadata": {},
   "outputs": [],
   "source": []
  }
 ],
 "metadata": {
  "kernelspec": {
   "display_name": "Python 3 (ipykernel)",
   "language": "python",
   "name": "python3"
  },
  "language_info": {
   "codemirror_mode": {
    "name": "ipython",
    "version": 3
   },
   "file_extension": ".py",
   "mimetype": "text/x-python",
   "name": "python",
   "nbconvert_exporter": "python",
   "pygments_lexer": "ipython3",
   "version": "3.9.6"
  }
 },
 "nbformat": 4,
 "nbformat_minor": 5
}
