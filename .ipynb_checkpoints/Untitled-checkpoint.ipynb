{
 "cells": [
  {
   "cell_type": "code",
   "execution_count": 23,
   "id": "4a4091db",
   "metadata": {},
   "outputs": [
    {
     "name": "stdout",
     "output_type": "stream",
     "text": [
      "燕順燕順 是 水滸傳 人物 山東萊州人氏 赤色黃髮 人稱 錦毛虎 原是羊馬商人出身 後來本錢用光 便流落至清風山打劫 為清風山賊王 手下有王英及鄭天壽 一次 宋江路過清風山 被山賊綁了 押往寨主燕順處 燕順的嘍囉正要剖開宋江的心肝 宋江悲嘆大喊 想不到我宋江竟要命喪於此 燕順聞得宋江名號便下令叫停 領自己的手下一同向宋江下拜 宋江在清風山救了清風寨知寨劉高的妻子 但她恩將仇報 要劉高抓了宋江 當黃信押著宋江和花榮途經清風山時 燕順等人前往劫囚 救出二人 然後 清風山一夥連同花榮與秦明都上了梁山泊 燕順為馬軍小彪將兼遠探出哨頭領第十一員 後來隨徵遼國 方臘 在烏龍嶺被方臘大將石寶的流星錘打死 \n",
      "\n"
     ]
    }
   ],
   "source": [
    "import jieba\n",
    "import jieba.analyse\n",
    "import re\n",
    "import pandas as pd\n",
    "from collections import Counter\n",
    "import matplotlib.pyplot as plt\n",
    "import json\n",
    "from opencc import OpenCC\n",
    "cc = OpenCC('s2twp')\n",
    "\n",
    "text = []\n",
    "with open('wiki_zh/AC/wiki_73', \"r\", encoding = \"utf-8\") as simplified:\n",
    "    data = []\n",
    "    for s in simplified:\n",
    "        data = json.loads(s)\n",
    "        x = re.sub('\\n','',cc.convert(data['text']))\n",
    "        text.append(re.sub('[^\\u4e00-\\u9fa5]+',' ', x) + '\\n')\n",
    "    print(text[0])\n",
    "    "
   ]
  },
  {
   "cell_type": "code",
   "execution_count": null,
   "id": "8912448f",
   "metadata": {},
   "outputs": [],
   "source": [
    "from gensim.models import word2vec\n",
    "\n",
    "def train(self):\n",
    "    print(\"訓練中...\")\n",
    "    sentence = word2vec.Text8Corpus(\"segmentation.txt\")\n",
    "    model = word2vec.Word2Vec(sentence, size = 400, window = 10, min_count = 5, workers = 4, sg = 1)\n",
    "    model.wv.save_word2vec_format(u\"wiki300.model.bin\", binary = True)\n",
    "    print(\"model 儲存完畢\")\n",
    "\n",
    "train()"
   ]
  },
  {
   "cell_type": "code",
   "execution_count": null,
   "id": "d4203ecf",
   "metadata": {},
   "outputs": [],
   "source": [
    "from gensim.models.keyedvectors import KeyedVectors\n",
    "\n",
    "word_vectors = KeyedVectors.load_word2vec_format(\"wiki300.model.bin\", binary = True)\n",
    "print(\"'爸爸'前10名相似:\")    \n",
    "    res = word_vectors.wv.most_similar('爸爸', topn = 10)\n",
    "    for item in res:\n",
    "        print(item[0] + \",\" + str(item[1])"
   ]
  }
 ],
 "metadata": {
  "kernelspec": {
   "display_name": "Python 3 (ipykernel)",
   "language": "python",
   "name": "python3"
  },
  "language_info": {
   "codemirror_mode": {
    "name": "ipython",
    "version": 3
   },
   "file_extension": ".py",
   "mimetype": "text/x-python",
   "name": "python",
   "nbconvert_exporter": "python",
   "pygments_lexer": "ipython3",
   "version": "3.9.6"
  }
 },
 "nbformat": 4,
 "nbformat_minor": 5
}
